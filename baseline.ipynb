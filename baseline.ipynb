{
  "nbformat": 4,
  "nbformat_minor": 0,
  "metadata": {
    "colab": {
      "name": "baseline.ipynb",
      "provenance": [],
      "collapsed_sections": [],
      "toc_visible": true,
      "authorship_tag": "ABX9TyNL2WTAN+NACwBmrKubpKZb",
      "include_colab_link": true
    },
    "kernelspec": {
      "name": "python3",
      "display_name": "Python 3"
    }
  },
  "cells": [
    {
      "cell_type": "markdown",
      "metadata": {
        "id": "view-in-github",
        "colab_type": "text"
      },
      "source": [
        "<a href=\"https://colab.research.google.com/github/nguy4130/Social-Distancing-CV/blob/main/baseline.ipynb\" target=\"_parent\"><img src=\"https://colab.research.google.com/assets/colab-badge.svg\" alt=\"Open In Colab\"/></a>"
      ]
    },
    {
      "cell_type": "markdown",
      "metadata": {
        "id": "sHfFGyn4e8Mj"
      },
      "source": [
        "# Setup environment"
      ]
    },
    {
      "cell_type": "markdown",
      "metadata": {
        "id": "zlKSNxbAfrlf"
      },
      "source": [
        "Check if python is installed (can skip this cell)"
      ]
    },
    {
      "cell_type": "code",
      "metadata": {
        "id": "JuKuZcDUeohA"
      },
      "source": [
        "!which python\n",
        "!python --version\n",
        "!echo $PYTHONPATH\n",
        "!env PYTHONPATH="
      ],
      "execution_count": null,
      "outputs": []
    },
    {
      "cell_type": "markdown",
      "metadata": {
        "id": "KxwRq2rxfhM0"
      },
      "source": [
        "## Install conda"
      ]
    },
    {
      "cell_type": "code",
      "metadata": {
        "id": "V0uQrvwUflzy"
      },
      "source": [
        "!wget -c https://repo.anaconda.com/miniconda/Miniconda3-4.5.4-Linux-x86_64.sh\n",
        "!chmod +x Miniconda3-4.5.4-Linux-x86_64.sh\n",
        "!bash ./Miniconda3-4.5.4-Linux-x86_64.sh -b -f -p /usr/local\n",
        "!PYTHONPATH=/usr/local"
      ],
      "execution_count": null,
      "outputs": []
    },
    {
      "cell_type": "markdown",
      "metadata": {
        "id": "vzfJ0sYxf1dK"
      },
      "source": [
        "## Create conda environment"
      ]
    },
    {
      "cell_type": "code",
      "metadata": {
        "id": "4uFKHkluf53W"
      },
      "source": [
        "!conda create --name env  python=3.7"
      ],
      "execution_count": null,
      "outputs": []
    },
    {
      "cell_type": "code",
      "metadata": {
        "id": "hKJCZ7wVf9nU"
      },
      "source": [
        "!source activate env"
      ],
      "execution_count": 4,
      "outputs": []
    },
    {
      "cell_type": "code",
      "metadata": {
        "id": "nbMUsYtHf-7q"
      },
      "source": [
        "!conda install pytorch==1.5.0 torchvision==0.6.0 cudatoolkit=10.1 -c pytorch"
      ],
      "execution_count": null,
      "outputs": []
    },
    {
      "cell_type": "markdown",
      "metadata": {
        "id": "bY8x9WK_gCV4"
      },
      "source": [
        "## Clone the baseline code"
      ]
    },
    {
      "cell_type": "code",
      "metadata": {
        "id": "k6Cs3ZTfjeTY"
      },
      "source": [
        "!cd /content && rm -rf Social-Distancing-CV"
      ],
      "execution_count": 6,
      "outputs": []
    },
    {
      "cell_type": "code",
      "metadata": {
        "colab": {
          "base_uri": "https://localhost:8080/"
        },
        "id": "dHwF8-PwgBl7",
        "outputId": "1f698f21-0f23-4c20-a56d-bb04fa424277"
      },
      "source": [
        "!cd /content && git clone https://github.com/nguy4130/Social-Distancing-CV "
      ],
      "execution_count": 7,
      "outputs": [
        {
          "output_type": "stream",
          "text": [
            "Cloning into 'Social-Distancing-CV'...\n",
            "remote: Enumerating objects: 123, done.\u001b[K\n",
            "remote: Counting objects: 100% (123/123), done.\u001b[K\n",
            "remote: Compressing objects: 100% (88/88), done.\u001b[K\n",
            "remote: Total 123 (delta 34), reused 99 (delta 26), pack-reused 0\u001b[K\n",
            "Receiving objects: 100% (123/123), 8.22 MiB | 33.79 MiB/s, done.\n",
            "Resolving deltas: 100% (34/34), done.\n"
          ],
          "name": "stdout"
        }
      ]
    },
    {
      "cell_type": "code",
      "metadata": {
        "colab": {
          "base_uri": "https://localhost:8080/"
        },
        "id": "OEjm4hd8glMy",
        "outputId": "b11b190d-44ff-42bf-c812-e48a6b69571c"
      },
      "source": [
        "%cd /content/Social-Distancing-CV/social-distancing-monitoring/"
      ],
      "execution_count": 8,
      "outputs": [
        {
          "output_type": "stream",
          "text": [
            "/content/Social-Distancing-CV/social-distancing-monitoring\n"
          ],
          "name": "stdout"
        }
      ]
    },
    {
      "cell_type": "markdown",
      "metadata": {
        "id": "NikPmQ59ky5V"
      },
      "source": [
        "Install the required packages (DON'T restart the runtime after a package is installed!)"
      ]
    },
    {
      "cell_type": "code",
      "metadata": {
        "id": "2MqrsI2ogu4N"
      },
      "source": [
        "!pip3 install -r requirements.txt"
      ],
      "execution_count": null,
      "outputs": []
    },
    {
      "cell_type": "markdown",
      "metadata": {
        "id": "ZWNUt8epg8J4"
      },
      "source": [
        "The dataset in the form of video can be downloaded [here](https://drive.google.com/file/d/1XYTxtSbneh4NQOrSUtVovzC1_HzcdvM0/view?usp=sharing) and placed in ```/content/Social-Distancing-CV/social-distancing-monitoring```"
      ]
    },
    {
      "cell_type": "code",
      "metadata": {
        "id": "ZgO45o47k_dN"
      },
      "source": [
        "!pip3 install ipykernel"
      ],
      "execution_count": null,
      "outputs": []
    },
    {
      "cell_type": "code",
      "metadata": {
        "colab": {
          "base_uri": "https://localhost:8080/"
        },
        "id": "j53xdgzQhmjt",
        "outputId": "bf70e5a7-e0a4-491a-ced7-913385249caa"
      },
      "source": [
        "!python3 detect.py"
      ],
      "execution_count": 12,
      "outputs": [
        {
          "output_type": "stream",
          "text": [
            "=========== tinyImg2 ===========\n",
            "Downloading: \"https://download.pytorch.org/models/fasterrcnn_resnet50_fpn_coco-258fb6c6.pth\" to /root/.cache/torch/checkpoints/fasterrcnn_resnet50_fpn_coco-258fb6c6.pth\n",
            "100.0%\n"
          ],
          "name": "stdout"
        }
      ]
    },
    {
      "cell_type": "code",
      "metadata": {
        "id": "R75wYY1jhqYl"
      },
      "source": [
        ""
      ],
      "execution_count": null,
      "outputs": []
    }
  ]
}